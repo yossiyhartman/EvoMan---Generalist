{
 "cells": [
  {
   "cell_type": "code",
   "execution_count": 3,
   "metadata": {},
   "outputs": [],
   "source": [
    "# Define the file path\n",
    "file_path = \"best_weights_8_benchmark.txt\"\n",
    "\n",
    "# Read the file, round each float value, and write it back\n",
    "with open(file_path, \"r\") as f:\n",
    "    lines = f.readlines()\n",
    "\n",
    "# Round each value and overwrite the file\n",
    "with open(file_path + '_test', \"w\") as f:\n",
    "    for line in lines:\n",
    "        rounded_value = round(float(line.strip()), 3)  # Round to the nearest decimal point (1 decimal place)\n",
    "        f.write(f\"{rounded_value}\\n\")"
   ]
  }
 ],
 "metadata": {
  "kernelspec": {
   "display_name": ".venv",
   "language": "python",
   "name": "python3"
  },
  "language_info": {
   "codemirror_mode": {
    "name": "ipython",
    "version": 3
   },
   "file_extension": ".py",
   "mimetype": "text/x-python",
   "name": "python",
   "nbconvert_exporter": "python",
   "pygments_lexer": "ipython3",
   "version": "3.12.4"
  }
 },
 "nbformat": 4,
 "nbformat_minor": 2
}
